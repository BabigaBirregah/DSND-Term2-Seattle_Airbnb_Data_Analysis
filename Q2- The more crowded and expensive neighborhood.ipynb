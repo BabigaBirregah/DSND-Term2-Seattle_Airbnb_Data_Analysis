{
 "cells": [
  {
   "cell_type": "markdown",
   "metadata": {},
   "source": [
    "# Which neighborhoods are more crowded and expensive?"
   ]
  },
  {
   "cell_type": "markdown",
   "metadata": {},
   "source": [
    "# 1. Gather"
   ]
  },
  {
   "cell_type": "code",
   "execution_count": 1,
   "metadata": {},
   "outputs": [],
   "source": [
    "# Import necessary libraries\n",
    "import pandas as pd\n",
    "import matplotlib.pyplot as plt\n",
    "\n",
    "# Magic word for producing visualizations in notebook\n",
    "%matplotlib inline"
   ]
  },
  {
   "cell_type": "code",
   "execution_count": 2,
   "metadata": {},
   "outputs": [],
   "source": [
    "# Load in listings data.\n",
    "listings_df = pd.read_csv('listings.csv',sep=',')"
   ]
  },
  {
   "cell_type": "markdown",
   "metadata": {},
   "source": [
    "# 2. Assess"
   ]
  },
  {
   "cell_type": "code",
   "execution_count": 3,
   "metadata": {},
   "outputs": [
    {
     "data": {
      "text/html": [
       "<div>\n",
       "<style scoped>\n",
       "    .dataframe tbody tr th:only-of-type {\n",
       "        vertical-align: middle;\n",
       "    }\n",
       "\n",
       "    .dataframe tbody tr th {\n",
       "        vertical-align: top;\n",
       "    }\n",
       "\n",
       "    .dataframe thead th {\n",
       "        text-align: right;\n",
       "    }\n",
       "</style>\n",
       "<table border=\"1\" class=\"dataframe\">\n",
       "  <thead>\n",
       "    <tr style=\"text-align: right;\">\n",
       "      <th></th>\n",
       "      <th>id</th>\n",
       "      <th>neighbourhood_group_cleansed</th>\n",
       "      <th>price</th>\n",
       "    </tr>\n",
       "  </thead>\n",
       "  <tbody>\n",
       "    <tr>\n",
       "      <th>0</th>\n",
       "      <td>241032</td>\n",
       "      <td>Queen Anne</td>\n",
       "      <td>$85.00</td>\n",
       "    </tr>\n",
       "    <tr>\n",
       "      <th>1</th>\n",
       "      <td>953595</td>\n",
       "      <td>Queen Anne</td>\n",
       "      <td>$150.00</td>\n",
       "    </tr>\n",
       "    <tr>\n",
       "      <th>2</th>\n",
       "      <td>3308979</td>\n",
       "      <td>Queen Anne</td>\n",
       "      <td>$975.00</td>\n",
       "    </tr>\n",
       "    <tr>\n",
       "      <th>3</th>\n",
       "      <td>7421966</td>\n",
       "      <td>Queen Anne</td>\n",
       "      <td>$100.00</td>\n",
       "    </tr>\n",
       "    <tr>\n",
       "      <th>4</th>\n",
       "      <td>278830</td>\n",
       "      <td>Queen Anne</td>\n",
       "      <td>$450.00</td>\n",
       "    </tr>\n",
       "  </tbody>\n",
       "</table>\n",
       "</div>"
      ],
      "text/plain": [
       "        id neighbourhood_group_cleansed    price\n",
       "0   241032                   Queen Anne   $85.00\n",
       "1   953595                   Queen Anne  $150.00\n",
       "2  3308979                   Queen Anne  $975.00\n",
       "3  7421966                   Queen Anne  $100.00\n",
       "4   278830                   Queen Anne  $450.00"
      ]
     },
     "execution_count": 3,
     "metadata": {},
     "output_type": "execute_result"
    }
   ],
   "source": [
    "# Create a new dataframe with only needed columns\n",
    "needed_columns=['id','neighbourhood_group_cleansed','price']\n",
    "listings_df_clean= pd.DataFrame(data=listings_df, index=listings_df.index, columns=needed_columns) \n",
    "listings_df_clean.head()"
   ]
  },
  {
   "cell_type": "code",
   "execution_count": 4,
   "metadata": {},
   "outputs": [
    {
     "data": {
      "text/plain": [
       "(3818, 3)"
      ]
     },
     "execution_count": 4,
     "metadata": {},
     "output_type": "execute_result"
    }
   ],
   "source": [
    "# The number of rows and columns of listings data\n",
    "listings_df_clean.shape"
   ]
  },
  {
   "cell_type": "code",
   "execution_count": 5,
   "metadata": {},
   "outputs": [
    {
     "name": "stdout",
     "output_type": "stream",
     "text": [
      "<class 'pandas.core.frame.DataFrame'>\n",
      "RangeIndex: 3818 entries, 0 to 3817\n",
      "Data columns (total 3 columns):\n",
      "id                              3818 non-null int64\n",
      "neighbourhood_group_cleansed    3818 non-null object\n",
      "price                           3818 non-null object\n",
      "dtypes: int64(1), object(2)\n",
      "memory usage: 89.6+ KB\n"
     ]
    }
   ],
   "source": [
    "# The columns information of listings data\n",
    "listings_df_clean.info()"
   ]
  },
  {
   "cell_type": "markdown",
   "metadata": {},
   "source": [
    "# 3. Clean and Analyze"
   ]
  },
  {
   "cell_type": "markdown",
   "metadata": {},
   "source": [
    "## 3.1. Handle Inconsistent Data"
   ]
  },
  {
   "cell_type": "code",
   "execution_count": 6,
   "metadata": {},
   "outputs": [
    {
     "data": {
      "text/plain": [
       "0     85.0\n",
       "1    150.0\n",
       "2    975.0\n",
       "3    100.0\n",
       "4    450.0\n",
       "Name: price, dtype: float64"
      ]
     },
     "execution_count": 6,
     "metadata": {},
     "output_type": "execute_result"
    }
   ],
   "source": [
    "# Change the type of price feature to float\n",
    "listings_df_clean['price']= pd.to_numeric(listings_df_clean['price'].str.translate({ord(i): None for i in '$,'}))\n",
    "listings_df_clean['price'].head()"
   ]
  },
  {
   "cell_type": "markdown",
   "metadata": {},
   "source": [
    "## 3.2. Handle Missing Data"
   ]
  },
  {
   "cell_type": "code",
   "execution_count": 7,
   "metadata": {},
   "outputs": [
    {
     "data": {
      "text/plain": [
       "price                           0.0\n",
       "neighbourhood_group_cleansed    0.0\n",
       "id                              0.0\n",
       "dtype: float64"
      ]
     },
     "execution_count": 7,
     "metadata": {},
     "output_type": "execute_result"
    }
   ],
   "source": [
    "# Missing data in each column\n",
    "listings_df_clean.isnull().mean().sort_values(ascending=False)"
   ]
  },
  {
   "cell_type": "markdown",
   "metadata": {},
   "source": [
    "**No Missing Data is found**"
   ]
  },
  {
   "cell_type": "markdown",
   "metadata": {},
   "source": [
    "# 4. Model and Visualize"
   ]
  },
  {
   "cell_type": "markdown",
   "metadata": {},
   "source": [
    "## 4.1. Price Variance"
   ]
  },
  {
   "cell_type": "code",
   "execution_count": 8,
   "metadata": {},
   "outputs": [
    {
     "data": {
      "text/plain": [
       "neighbourhood_group_cleansed\n",
       "Magnolia               177.672131\n",
       "Queen Anne             157.223729\n",
       "Downtown               154.405660\n",
       "West Seattle           141.359606\n",
       "Cascade                140.101124\n",
       "Capitol Hill           130.592593\n",
       "Central Area           128.338753\n",
       "Ballard                124.682609\n",
       "Other neighborhoods    119.968514\n",
       "Interbay               109.727273\n",
       "Seward Park            108.477273\n",
       "Beacon Hill             94.669492\n",
       "University District     93.639344\n",
       "Lake City               92.671642\n",
       "Rainier Valley          91.899371\n",
       "Northgate               88.550000\n",
       "Delridge                83.278481\n",
       "Name: price, dtype: float64"
      ]
     },
     "execution_count": 8,
     "metadata": {},
     "output_type": "execute_result"
    }
   ],
   "source": [
    "# Average price for each neighbourhood group\n",
    "neighbourhood_groups_price=listings_df_clean.groupby(['neighbourhood_group_cleansed'])['price'].mean()\n",
    "\n",
    "# Sort values in descending order\n",
    "neighbourhood_groups_price=neighbourhood_groups_price.sort_values(ascending=False)\n",
    "neighbourhood_groups_price"
   ]
  },
  {
   "cell_type": "code",
   "execution_count": 9,
   "metadata": {},
   "outputs": [
    {
     "data": {
      "text/plain": [
       "count     17.000000\n",
       "mean     119.838682\n",
       "std       27.847598\n",
       "min       83.278481\n",
       "25%       93.639344\n",
       "50%      119.968514\n",
       "75%      140.101124\n",
       "max      177.672131\n",
       "Name: price, dtype: float64"
      ]
     },
     "execution_count": 9,
     "metadata": {},
     "output_type": "execute_result"
    }
   ],
   "source": [
    "# Get statistical information\n",
    "neighbourhood_groups_price.describe()"
   ]
  },
  {
   "cell_type": "code",
   "execution_count": 10,
   "metadata": {},
   "outputs": [
    {
     "data": {
      "text/plain": [
       "['Magnolia', 'Queen Anne', 'Downtown', 'West Seattle', 'Cascade']"
      ]
     },
     "execution_count": 10,
     "metadata": {},
     "output_type": "execute_result"
    }
   ],
   "source": [
    "# Consider neighbourhood with avergae price over 140 to be expensive (above 75% of data)\n",
    "high_price_neighbourhood_val=neighbourhood_groups_price[neighbourhood_groups_price>140]\n",
    "\n",
    "# Get names of high price months\n",
    "high_price_neighbourhood=high_price_neighbourhood_val.index.tolist()\n",
    "high_price_neighbourhood"
   ]
  },
  {
   "cell_type": "code",
   "execution_count": 11,
   "metadata": {},
   "outputs": [
    {
     "data": {
      "text/plain": [
       "['Lake City', 'Rainier Valley', 'Northgate', 'Delridge']"
      ]
     },
     "execution_count": 11,
     "metadata": {},
     "output_type": "execute_result"
    }
   ],
   "source": [
    "# Consider neighbourhood with avergae price under 93 to be cheap (under 25% of data)\n",
    "low_price_neighbourhood_val=neighbourhood_groups_price[neighbourhood_groups_price<93]\n",
    "\n",
    "# Get names of high price months\n",
    "low_price_neighbourhood=low_price_neighbourhood_val.index.tolist()\n",
    "low_price_neighbourhood"
   ]
  },
  {
   "cell_type": "code",
   "execution_count": 12,
   "metadata": {},
   "outputs": [
    {
     "data": {
      "image/png": "[encoded data removed]",
      "text/plain": [
       "<Figure size 1008x504 with 1 Axes>"
      ]
     },
     "metadata": {
      "needs_background": "light"
     },
     "output_type": "display_data"
    }
   ],
   "source": [
    "# Plot the average price per neighbourhoods\n",
    "plt.figure(figsize=(14,7))\n",
    "plt.bar(neighbourhood_groups_price.index,neighbourhood_groups_price)\n",
    "plt.xticks(rotation=90)\n",
    "plt.xlabel('Neighborhoods')\n",
    "plt.ylabel('Price')\n",
    "plt.title('Price variance among neighborhoods')\n",
    "plt.show()"
   ]
  },
  {
   "cell_type": "markdown",
   "metadata": {},
   "source": [
    "**Based on the above graph,**\n",
    "- Magnolia, Queen Anne, Downtown, and Cascade are the most expensive.\n",
    "- Delridge, Northgate, Rainier Valley, and Lake City are the cheapest."
   ]
  },
  {
   "cell_type": "markdown",
   "metadata": {},
   "source": [
    "## 4.2. Listings Distribution"
   ]
  },
  {
   "cell_type": "code",
   "execution_count": 13,
   "metadata": {},
   "outputs": [
    {
     "data": {
      "text/plain": [
       "neighbourhood_group_cleansed\n",
       "Other neighborhoods    0.207962\n",
       "Capitol Hill           0.148507\n",
       "Downtown               0.138816\n",
       "Central Area           0.096647\n",
       "Queen Anne             0.077266\n",
       "Ballard                0.060241\n",
       "West Seattle           0.053169\n",
       "Rainier Valley         0.041645\n",
       "University District    0.031954\n",
       "Beacon Hill            0.030906\n",
       "Cascade                0.023311\n",
       "Northgate              0.020953\n",
       "Delridge               0.020691\n",
       "Lake City              0.017548\n",
       "Magnolia               0.015977\n",
       "Seward Park            0.011524\n",
       "Interbay               0.002881\n",
       "Name: id, dtype: float64"
      ]
     },
     "execution_count": 13,
     "metadata": {},
     "output_type": "execute_result"
    }
   ],
   "source": [
    "# The average number of listings for each neighbourhood group\n",
    "neighbourhood_group_popular=listings_df_clean.groupby(['neighbourhood_group_cleansed'])['id'].count()/listings_df_clean.shape[0]\n",
    "\n",
    "# Sort values in descending order\n",
    "neighbourhood_group_popular=neighbourhood_group_popular.sort_values(ascending=False)\n",
    "neighbourhood_group_popular"
   ]
  },
  {
   "cell_type": "code",
   "execution_count": 14,
   "metadata": {},
   "outputs": [
    {
     "data": {
      "text/plain": [
       "count    17.000000\n",
       "mean      0.058824\n",
       "std       0.057739\n",
       "min       0.002881\n",
       "25%       0.020691\n",
       "50%       0.031954\n",
       "75%       0.077266\n",
       "max       0.207962\n",
       "Name: id, dtype: float64"
      ]
     },
     "execution_count": 14,
     "metadata": {},
     "output_type": "execute_result"
    }
   ],
   "source": [
    "# Get statistical information\n",
    "neighbourhood_group_popular.describe()"
   ]
  },
  {
   "cell_type": "code",
   "execution_count": 15,
   "metadata": {},
   "outputs": [
    {
     "data": {
      "text/plain": [
       "['Other neighborhoods', 'Capitol Hill', 'Downtown', 'Central Area']"
      ]
     },
     "execution_count": 15,
     "metadata": {},
     "output_type": "execute_result"
    }
   ],
   "source": [
    "# Consider neighbourhood with The average number of listings over 0.08 to be popular (above 75% of data)\n",
    "pop_neighbourhood_val=neighbourhood_group_popular[neighbourhood_group_popular>0.08]\n",
    "\n",
    "# Get names of high price months\n",
    "pop_neighbourhood=pop_neighbourhood_val.index.tolist()\n",
    "pop_neighbourhood"
   ]
  },
  {
   "cell_type": "code",
   "execution_count": 16,
   "metadata": {},
   "outputs": [
    {
     "data": {
      "text/plain": [
       "['Lake City', 'Magnolia', 'Seward Park', 'Interbay']"
      ]
     },
     "execution_count": 16,
     "metadata": {},
     "output_type": "execute_result"
    }
   ],
   "source": [
    "# Consider neighbourhood with The average number of listings under 0.02 to be unpopular (under 25% of data)\n",
    "unpop_neighbourhood_val=neighbourhood_group_popular[neighbourhood_group_popular<0.02]\n",
    "\n",
    "# Get names of high price months\n",
    "unpop_neighbourhood=unpop_neighbourhood_val.index.tolist()\n",
    "unpop_neighbourhood"
   ]
  },
  {
   "cell_type": "code",
   "execution_count": 17,
   "metadata": {},
   "outputs": [
    {
     "data": {
      "image/png": "[encoded data removed]",
      "text/plain": [
       "<Figure size 1008x504 with 1 Axes>"
      ]
     },
     "metadata": {
      "needs_background": "light"
     },
     "output_type": "display_data"
    }
   ],
   "source": [
    "# Plot Average number of listings per neighbourhoods\n",
    "plt.figure(figsize=(14,7))\n",
    "plt.bar(neighbourhood_group_popular.index,neighbourhood_group_popular)\n",
    "plt.xticks(rotation=90)\n",
    "plt.xlabel('Neighborhoods')\n",
    "plt.ylabel('Average number of listings')\n",
    "plt.title('Listings distribution among neighborhoods')\n",
    "plt.show()"
   ]
  },
  {
   "cell_type": "markdown",
   "metadata": {},
   "source": [
    "**Based on the above graph,**\n",
    "- Capitol Hill, Downtown, and Central Area are the most crowded.\n",
    "- Interbay, Seward Park, Magnolia, and Lake City are the least crowded."
   ]
  },
  {
   "cell_type": "code",
   "execution_count": 18,
   "metadata": {},
   "outputs": [
    {
     "data": {
      "text/plain": [
       "['Downtown']"
      ]
     },
     "execution_count": 18,
     "metadata": {},
     "output_type": "execute_result"
    }
   ],
   "source": [
    "# Get monhts that are expensive and crowded\n",
    "list(set(high_price_neighbourhood) & set(pop_neighbourhood) )"
   ]
  },
  {
   "cell_type": "code",
   "execution_count": 19,
   "metadata": {},
   "outputs": [
    {
     "data": {
      "text/plain": [
       "['Magnolia']"
      ]
     },
     "execution_count": 19,
     "metadata": {},
     "output_type": "execute_result"
    }
   ],
   "source": [
    "# Get monhts that are expensive and less crowded\n",
    "list(set(high_price_neighbourhood) & set(unpop_neighbourhood) )"
   ]
  },
  {
   "cell_type": "code",
   "execution_count": 20,
   "metadata": {},
   "outputs": [
    {
     "data": {
      "text/plain": [
       "[]"
      ]
     },
     "execution_count": 20,
     "metadata": {},
     "output_type": "execute_result"
    }
   ],
   "source": [
    "# Get monhts that are cheap and crowded\n",
    "list(set(low_price_neighbourhood) & set(pop_neighbourhood) )"
   ]
  },
  {
   "cell_type": "code",
   "execution_count": 21,
   "metadata": {},
   "outputs": [
    {
     "data": {
      "text/plain": [
       "['Lake City']"
      ]
     },
     "execution_count": 21,
     "metadata": {},
     "output_type": "execute_result"
    }
   ],
   "source": [
    "# Get monhts that are cheap and less crowded\n",
    "list(set(low_price_neighbourhood) & set(unpop_neighbourhood) )"
   ]
  },
  {
   "cell_type": "markdown",
   "metadata": {},
   "source": [
    "**In Conclusion,** \n",
    "- Downtown is expensive and more crowded\n",
    "- Magnolia is expensive and less crowded \n",
    "- Lake City is cheap and less crowded"
   ]
  }
 ],
 "metadata": {
  "kernelspec": {
   "display_name": "Python [conda env:Anaconda3]",
   "language": "python",
   "name": "conda-env-Anaconda3-py"
  },
  "language_info": {
   "codemirror_mode": {
    "name": "ipython",
    "version": 3
   },
   "file_extension": ".py",
   "mimetype": "text/x-python",
   "name": "python",
   "nbconvert_exporter": "python",
   "pygments_lexer": "ipython3",
   "version": "3.7.1"
  }
 },
 "nbformat": 4,
 "nbformat_minor": 2
}
